{
  "nbformat": 4,
  "nbformat_minor": 0,
  "metadata": {
    "colab": {
      "provenance": []
    },
    "kernelspec": {
      "name": "python3",
      "display_name": "Python 3"
    },
    "language_info": {
      "name": "python"
    }
  },
  "cells": [
    {
      "cell_type": "markdown",
      "source": [
        "**Performance Analysis of Stock Using Deep Learning Models**"
      ],
      "metadata": {
        "id": "DRfib-Q8Q7ZK"
      }
    },
    {
      "cell_type": "code",
      "execution_count": null,
      "metadata": {
        "id": "OuHbngC1Uxr7"
      },
      "outputs": [],
      "source": [
        "#Import essential libraries\n",
        "import numpy as np\n",
        "import pandas as pd\n",
        "import math\n",
        "from sklearn.preprocessing import MinMaxScaler\n",
        "from sklearn.metrics import mean_squared_error\n",
        "from sklearn.metrics import mean_absolute_error\n",
        "from sklearn.metrics import r2_score\n",
        "from sklearn.neural_network import MLPRegressor\n",
        "import matplotlib as mpl\n",
        "import matplotlib.pyplot as plt\n",
        "import matplotlib.pylab as pylab\n",
        "import keras\n",
        "from keras.models import Sequential\n",
        "from keras.layers import Dense, LSTM, Dropout, GRU, Bidirectional\n",
        "from keras.optimizers import SGD\n",
        "import warnings\n",
        "warnings.filterwarnings('ignore')\n"
      ]
    },
    {
      "cell_type": "markdown",
      "source": [
        "**Dataset Collection**"
      ],
      "metadata": {
        "id": "3lJ2eUe8_3_u"
      }
    },
    {
      "cell_type": "code",
      "source": [
        "#Load the dataset\n",
        "data = pd.read_csv('AAPL523.csv')\n",
        "data"
      ],
      "metadata": {
        "colab": {
          "base_uri": "https://localhost:8080/",
          "height": 423
        },
        "id": "ADSS0GNBU-Bw",
        "outputId": "f41e636f-bd82-41d2-e4d8-81b03ddfa89a"
      },
      "execution_count": null,
      "outputs": [
        {
          "output_type": "execute_result",
          "data": {
            "text/plain": [
              "            Date        Open        High         Low       Close   Adj Close  \\\n",
              "0     2005-07-15    1.463214    1.484643    1.445000    1.483929    1.261255   \n",
              "1     2005-07-18    1.478929    1.503571    1.477500    1.481786    1.259433   \n",
              "2     2005-07-19    1.482857    1.543929    1.466786    1.542500    1.311036   \n",
              "3     2005-07-20    1.530714    1.564286    1.523214    1.558214    1.324393   \n",
              "4     2005-07-21    1.560714    1.572857    1.532143    1.546071    1.314072   \n",
              "...          ...         ...         ...         ...         ...         ...   \n",
              "4484  2023-05-09  173.050003  173.539993  171.600006  171.770004  171.532745   \n",
              "4485  2023-05-10  173.020004  174.029999  171.899994  173.559998  173.320267   \n",
              "4486  2023-05-11  173.850006  174.589996  172.169998  173.750000  173.510010   \n",
              "4487  2023-05-12  173.619995  174.059998  171.000000  172.570007  172.570007   \n",
              "4488  2023-05-15  173.160004  173.210007  171.470001  171.729996  171.729996   \n",
              "\n",
              "         Volume  \n",
              "0     687682800  \n",
              "1     586297600  \n",
              "2     671062000  \n",
              "3     453395600  \n",
              "4     404264000  \n",
              "...         ...  \n",
              "4484   45326900  \n",
              "4485   53724500  \n",
              "4486   49514700  \n",
              "4487   45497800  \n",
              "4488   26048954  \n",
              "\n",
              "[4489 rows x 7 columns]"
            ],
            "text/html": [
              "\n",
              "\n",
              "  <div id=\"df-90c73d6b-1302-44ee-9397-89ceaf6db4eb\">\n",
              "    <div class=\"colab-df-container\">\n",
              "      <div>\n",
              "<style scoped>\n",
              "    .dataframe tbody tr th:only-of-type {\n",
              "        vertical-align: middle;\n",
              "    }\n",
              "\n",
              "    .dataframe tbody tr th {\n",
              "        vertical-align: top;\n",
              "    }\n",
              "\n",
              "    .dataframe thead th {\n",
              "        text-align: right;\n",
              "    }\n",
              "</style>\n",
              "<table border=\"1\" class=\"dataframe\">\n",
              "  <thead>\n",
              "    <tr style=\"text-align: right;\">\n",
              "      <th></th>\n",
              "      <th>Date</th>\n",
              "      <th>Open</th>\n",
              "      <th>High</th>\n",
              "      <th>Low</th>\n",
              "      <th>Close</th>\n",
              "      <th>Adj Close</th>\n",
              "      <th>Volume</th>\n",
              "    </tr>\n",
              "  </thead>\n",
              "  <tbody>\n",
              "    <tr>\n",
              "      <th>0</th>\n",
              "      <td>2005-07-15</td>\n",
              "      <td>1.463214</td>\n",
              "      <td>1.484643</td>\n",
              "      <td>1.445000</td>\n",
              "      <td>1.483929</td>\n",
              "      <td>1.261255</td>\n",
              "      <td>687682800</td>\n",
              "    </tr>\n",
              "    <tr>\n",
              "      <th>1</th>\n",
              "      <td>2005-07-18</td>\n",
              "      <td>1.478929</td>\n",
              "      <td>1.503571</td>\n",
              "      <td>1.477500</td>\n",
              "      <td>1.481786</td>\n",
              "      <td>1.259433</td>\n",
              "      <td>586297600</td>\n",
              "    </tr>\n",
              "    <tr>\n",
              "      <th>2</th>\n",
              "      <td>2005-07-19</td>\n",
              "      <td>1.482857</td>\n",
              "      <td>1.543929</td>\n",
              "      <td>1.466786</td>\n",
              "      <td>1.542500</td>\n",
              "      <td>1.311036</td>\n",
              "      <td>671062000</td>\n",
              "    </tr>\n",
              "    <tr>\n",
              "      <th>3</th>\n",
              "      <td>2005-07-20</td>\n",
              "      <td>1.530714</td>\n",
              "      <td>1.564286</td>\n",
              "      <td>1.523214</td>\n",
              "      <td>1.558214</td>\n",
              "      <td>1.324393</td>\n",
              "      <td>453395600</td>\n",
              "    </tr>\n",
              "    <tr>\n",
              "      <th>4</th>\n",
              "      <td>2005-07-21</td>\n",
              "      <td>1.560714</td>\n",
              "      <td>1.572857</td>\n",
              "      <td>1.532143</td>\n",
              "      <td>1.546071</td>\n",
              "      <td>1.314072</td>\n",
              "      <td>404264000</td>\n",
              "    </tr>\n",
              "    <tr>\n",
              "      <th>...</th>\n",
              "      <td>...</td>\n",
              "      <td>...</td>\n",
              "      <td>...</td>\n",
              "      <td>...</td>\n",
              "      <td>...</td>\n",
              "      <td>...</td>\n",
              "      <td>...</td>\n",
              "    </tr>\n",
              "    <tr>\n",
              "      <th>4484</th>\n",
              "      <td>2023-05-09</td>\n",
              "      <td>173.050003</td>\n",
              "      <td>173.539993</td>\n",
              "      <td>171.600006</td>\n",
              "      <td>171.770004</td>\n",
              "      <td>171.532745</td>\n",
              "      <td>45326900</td>\n",
              "    </tr>\n",
              "    <tr>\n",
              "      <th>4485</th>\n",
              "      <td>2023-05-10</td>\n",
              "      <td>173.020004</td>\n",
              "      <td>174.029999</td>\n",
              "      <td>171.899994</td>\n",
              "      <td>173.559998</td>\n",
              "      <td>173.320267</td>\n",
              "      <td>53724500</td>\n",
              "    </tr>\n",
              "    <tr>\n",
              "      <th>4486</th>\n",
              "      <td>2023-05-11</td>\n",
              "      <td>173.850006</td>\n",
              "      <td>174.589996</td>\n",
              "      <td>172.169998</td>\n",
              "      <td>173.750000</td>\n",
              "      <td>173.510010</td>\n",
              "      <td>49514700</td>\n",
              "    </tr>\n",
              "    <tr>\n",
              "      <th>4487</th>\n",
              "      <td>2023-05-12</td>\n",
              "      <td>173.619995</td>\n",
              "      <td>174.059998</td>\n",
              "      <td>171.000000</td>\n",
              "      <td>172.570007</td>\n",
              "      <td>172.570007</td>\n",
              "      <td>45497800</td>\n",
              "    </tr>\n",
              "    <tr>\n",
              "      <th>4488</th>\n",
              "      <td>2023-05-15</td>\n",
              "      <td>173.160004</td>\n",
              "      <td>173.210007</td>\n",
              "      <td>171.470001</td>\n",
              "      <td>171.729996</td>\n",
              "      <td>171.729996</td>\n",
              "      <td>26048954</td>\n",
              "    </tr>\n",
              "  </tbody>\n",
              "</table>\n",
              "<p>4489 rows × 7 columns</p>\n",
              "</div>\n",
              "      <button class=\"colab-df-convert\" onclick=\"convertToInteractive('df-90c73d6b-1302-44ee-9397-89ceaf6db4eb')\"\n",
              "              title=\"Convert this dataframe to an interactive table.\"\n",
              "              style=\"display:none;\">\n",
              "\n",
              "  <svg xmlns=\"http://www.w3.org/2000/svg\" height=\"24px\"viewBox=\"0 0 24 24\"\n",
              "       width=\"24px\">\n",
              "    <path d=\"M0 0h24v24H0V0z\" fill=\"none\"/>\n",
              "    <path d=\"M18.56 5.44l.94 2.06.94-2.06 2.06-.94-2.06-.94-.94-2.06-.94 2.06-2.06.94zm-11 1L8.5 8.5l.94-2.06 2.06-.94-2.06-.94L8.5 2.5l-.94 2.06-2.06.94zm10 10l.94 2.06.94-2.06 2.06-.94-2.06-.94-.94-2.06-.94 2.06-2.06.94z\"/><path d=\"M17.41 7.96l-1.37-1.37c-.4-.4-.92-.59-1.43-.59-.52 0-1.04.2-1.43.59L10.3 9.45l-7.72 7.72c-.78.78-.78 2.05 0 2.83L4 21.41c.39.39.9.59 1.41.59.51 0 1.02-.2 1.41-.59l7.78-7.78 2.81-2.81c.8-.78.8-2.07 0-2.86zM5.41 20L4 18.59l7.72-7.72 1.47 1.35L5.41 20z\"/>\n",
              "  </svg>\n",
              "      </button>\n",
              "\n",
              "\n",
              "\n",
              "    <div id=\"df-609b767a-e743-484e-a438-5abaf5ae7cea\">\n",
              "      <button class=\"colab-df-quickchart\" onclick=\"quickchart('df-609b767a-e743-484e-a438-5abaf5ae7cea')\"\n",
              "              title=\"Suggest charts.\"\n",
              "              style=\"display:none;\">\n",
              "\n",
              "<svg xmlns=\"http://www.w3.org/2000/svg\" height=\"24px\"viewBox=\"0 0 24 24\"\n",
              "     width=\"24px\">\n",
              "    <g>\n",
              "        <path d=\"M19 3H5c-1.1 0-2 .9-2 2v14c0 1.1.9 2 2 2h14c1.1 0 2-.9 2-2V5c0-1.1-.9-2-2-2zM9 17H7v-7h2v7zm4 0h-2V7h2v10zm4 0h-2v-4h2v4z\"/>\n",
              "    </g>\n",
              "</svg>\n",
              "      </button>\n",
              "    </div>\n",
              "\n",
              "<style>\n",
              "  .colab-df-quickchart {\n",
              "    background-color: #E8F0FE;\n",
              "    border: none;\n",
              "    border-radius: 50%;\n",
              "    cursor: pointer;\n",
              "    display: none;\n",
              "    fill: #1967D2;\n",
              "    height: 32px;\n",
              "    padding: 0 0 0 0;\n",
              "    width: 32px;\n",
              "  }\n",
              "\n",
              "  .colab-df-quickchart:hover {\n",
              "    background-color: #E2EBFA;\n",
              "    box-shadow: 0px 1px 2px rgba(60, 64, 67, 0.3), 0px 1px 3px 1px rgba(60, 64, 67, 0.15);\n",
              "    fill: #174EA6;\n",
              "  }\n",
              "\n",
              "  [theme=dark] .colab-df-quickchart {\n",
              "    background-color: #3B4455;\n",
              "    fill: #D2E3FC;\n",
              "  }\n",
              "\n",
              "  [theme=dark] .colab-df-quickchart:hover {\n",
              "    background-color: #434B5C;\n",
              "    box-shadow: 0px 1px 3px 1px rgba(0, 0, 0, 0.15);\n",
              "    filter: drop-shadow(0px 1px 2px rgba(0, 0, 0, 0.3));\n",
              "    fill: #FFFFFF;\n",
              "  }\n",
              "</style>\n",
              "\n",
              "    <script>\n",
              "      async function quickchart(key) {\n",
              "        const containerElement = document.querySelector('#' + key);\n",
              "        const charts = await google.colab.kernel.invokeFunction(\n",
              "            'suggestCharts', [key], {});\n",
              "      }\n",
              "    </script>\n",
              "\n",
              "      <script>\n",
              "\n",
              "function displayQuickchartButton(domScope) {\n",
              "  let quickchartButtonEl =\n",
              "    domScope.querySelector('#df-609b767a-e743-484e-a438-5abaf5ae7cea button.colab-df-quickchart');\n",
              "  quickchartButtonEl.style.display =\n",
              "    google.colab.kernel.accessAllowed ? 'block' : 'none';\n",
              "}\n",
              "\n",
              "        displayQuickchartButton(document);\n",
              "      </script>\n",
              "      <style>\n",
              "    .colab-df-container {\n",
              "      display:flex;\n",
              "      flex-wrap:wrap;\n",
              "      gap: 12px;\n",
              "    }\n",
              "\n",
              "    .colab-df-convert {\n",
              "      background-color: #E8F0FE;\n",
              "      border: none;\n",
              "      border-radius: 50%;\n",
              "      cursor: pointer;\n",
              "      display: none;\n",
              "      fill: #1967D2;\n",
              "      height: 32px;\n",
              "      padding: 0 0 0 0;\n",
              "      width: 32px;\n",
              "    }\n",
              "\n",
              "    .colab-df-convert:hover {\n",
              "      background-color: #E2EBFA;\n",
              "      box-shadow: 0px 1px 2px rgba(60, 64, 67, 0.3), 0px 1px 3px 1px rgba(60, 64, 67, 0.15);\n",
              "      fill: #174EA6;\n",
              "    }\n",
              "\n",
              "    [theme=dark] .colab-df-convert {\n",
              "      background-color: #3B4455;\n",
              "      fill: #D2E3FC;\n",
              "    }\n",
              "\n",
              "    [theme=dark] .colab-df-convert:hover {\n",
              "      background-color: #434B5C;\n",
              "      box-shadow: 0px 1px 3px 1px rgba(0, 0, 0, 0.15);\n",
              "      filter: drop-shadow(0px 1px 2px rgba(0, 0, 0, 0.3));\n",
              "      fill: #FFFFFF;\n",
              "    }\n",
              "  </style>\n",
              "\n",
              "      <script>\n",
              "        const buttonEl =\n",
              "          document.querySelector('#df-90c73d6b-1302-44ee-9397-89ceaf6db4eb button.colab-df-convert');\n",
              "        buttonEl.style.display =\n",
              "          google.colab.kernel.accessAllowed ? 'block' : 'none';\n",
              "\n",
              "        async function convertToInteractive(key) {\n",
              "          const element = document.querySelector('#df-90c73d6b-1302-44ee-9397-89ceaf6db4eb');\n",
              "          const dataTable =\n",
              "            await google.colab.kernel.invokeFunction('convertToInteractive',\n",
              "                                                     [key], {});\n",
              "          if (!dataTable) return;\n",
              "\n",
              "          const docLinkHtml = 'Like what you see? Visit the ' +\n",
              "            '<a target=\"_blank\" href=https://colab.research.google.com/notebooks/data_table.ipynb>data table notebook</a>'\n",
              "            + ' to learn more about interactive tables.';\n",
              "          element.innerHTML = '';\n",
              "          dataTable['output_type'] = 'display_data';\n",
              "          await google.colab.output.renderOutput(dataTable, element);\n",
              "          const docLink = document.createElement('div');\n",
              "          docLink.innerHTML = docLinkHtml;\n",
              "          element.appendChild(docLink);\n",
              "        }\n",
              "      </script>\n",
              "    </div>\n",
              "  </div>\n"
            ]
          },
          "metadata": {},
          "execution_count": 3
        }
      ]
    },
    {
      "cell_type": "markdown",
      "source": [
        "**Data Preprocessing**"
      ],
      "metadata": {
        "id": "G2FjGZ2PAMBp"
      }
    },
    {
      "cell_type": "code",
      "source": [
        "dataset = pd.read_csv('AAPL523.csv', index_col='Date', parse_dates=['Date'])\n",
        "dataset"
      ],
      "metadata": {
        "colab": {
          "base_uri": "https://localhost:8080/",
          "height": 455
        },
        "id": "iMlSuCwfR-wP",
        "outputId": "52640b4f-62b1-4d6c-cc2c-e6efea89265d"
      },
      "execution_count": null,
      "outputs": [
        {
          "output_type": "execute_result",
          "data": {
            "text/plain": [
              "                  Open        High         Low       Close   Adj Close  \\\n",
              "Date                                                                     \n",
              "2005-07-15    1.463214    1.484643    1.445000    1.483929    1.261255   \n",
              "2005-07-18    1.478929    1.503571    1.477500    1.481786    1.259433   \n",
              "2005-07-19    1.482857    1.543929    1.466786    1.542500    1.311036   \n",
              "2005-07-20    1.530714    1.564286    1.523214    1.558214    1.324393   \n",
              "2005-07-21    1.560714    1.572857    1.532143    1.546071    1.314072   \n",
              "...                ...         ...         ...         ...         ...   \n",
              "2023-05-09  173.050003  173.539993  171.600006  171.770004  171.532745   \n",
              "2023-05-10  173.020004  174.029999  171.899994  173.559998  173.320267   \n",
              "2023-05-11  173.850006  174.589996  172.169998  173.750000  173.510010   \n",
              "2023-05-12  173.619995  174.059998  171.000000  172.570007  172.570007   \n",
              "2023-05-15  173.160004  173.210007  171.470001  171.729996  171.729996   \n",
              "\n",
              "               Volume  \n",
              "Date                   \n",
              "2005-07-15  687682800  \n",
              "2005-07-18  586297600  \n",
              "2005-07-19  671062000  \n",
              "2005-07-20  453395600  \n",
              "2005-07-21  404264000  \n",
              "...               ...  \n",
              "2023-05-09   45326900  \n",
              "2023-05-10   53724500  \n",
              "2023-05-11   49514700  \n",
              "2023-05-12   45497800  \n",
              "2023-05-15   26048954  \n",
              "\n",
              "[4489 rows x 6 columns]"
            ],
            "text/html": [
              "\n",
              "\n",
              "  <div id=\"df-73573207-3b42-4af7-85ee-79a3ffe706a7\">\n",
              "    <div class=\"colab-df-container\">\n",
              "      <div>\n",
              "<style scoped>\n",
              "    .dataframe tbody tr th:only-of-type {\n",
              "        vertical-align: middle;\n",
              "    }\n",
              "\n",
              "    .dataframe tbody tr th {\n",
              "        vertical-align: top;\n",
              "    }\n",
              "\n",
              "    .dataframe thead th {\n",
              "        text-align: right;\n",
              "    }\n",
              "</style>\n",
              "<table border=\"1\" class=\"dataframe\">\n",
              "  <thead>\n",
              "    <tr style=\"text-align: right;\">\n",
              "      <th></th>\n",
              "      <th>Open</th>\n",
              "      <th>High</th>\n",
              "      <th>Low</th>\n",
              "      <th>Close</th>\n",
              "      <th>Adj Close</th>\n",
              "      <th>Volume</th>\n",
              "    </tr>\n",
              "    <tr>\n",
              "      <th>Date</th>\n",
              "      <th></th>\n",
              "      <th></th>\n",
              "      <th></th>\n",
              "      <th></th>\n",
              "      <th></th>\n",
              "      <th></th>\n",
              "    </tr>\n",
              "  </thead>\n",
              "  <tbody>\n",
              "    <tr>\n",
              "      <th>2005-07-15</th>\n",
              "      <td>1.463214</td>\n",
              "      <td>1.484643</td>\n",
              "      <td>1.445000</td>\n",
              "      <td>1.483929</td>\n",
              "      <td>1.261255</td>\n",
              "      <td>687682800</td>\n",
              "    </tr>\n",
              "    <tr>\n",
              "      <th>2005-07-18</th>\n",
              "      <td>1.478929</td>\n",
              "      <td>1.503571</td>\n",
              "      <td>1.477500</td>\n",
              "      <td>1.481786</td>\n",
              "      <td>1.259433</td>\n",
              "      <td>586297600</td>\n",
              "    </tr>\n",
              "    <tr>\n",
              "      <th>2005-07-19</th>\n",
              "      <td>1.482857</td>\n",
              "      <td>1.543929</td>\n",
              "      <td>1.466786</td>\n",
              "      <td>1.542500</td>\n",
              "      <td>1.311036</td>\n",
              "      <td>671062000</td>\n",
              "    </tr>\n",
              "    <tr>\n",
              "      <th>2005-07-20</th>\n",
              "      <td>1.530714</td>\n",
              "      <td>1.564286</td>\n",
              "      <td>1.523214</td>\n",
              "      <td>1.558214</td>\n",
              "      <td>1.324393</td>\n",
              "      <td>453395600</td>\n",
              "    </tr>\n",
              "    <tr>\n",
              "      <th>2005-07-21</th>\n",
              "      <td>1.560714</td>\n",
              "      <td>1.572857</td>\n",
              "      <td>1.532143</td>\n",
              "      <td>1.546071</td>\n",
              "      <td>1.314072</td>\n",
              "      <td>404264000</td>\n",
              "    </tr>\n",
              "    <tr>\n",
              "      <th>...</th>\n",
              "      <td>...</td>\n",
              "      <td>...</td>\n",
              "      <td>...</td>\n",
              "      <td>...</td>\n",
              "      <td>...</td>\n",
              "      <td>...</td>\n",
              "    </tr>\n",
              "    <tr>\n",
              "      <th>2023-05-09</th>\n",
              "      <td>173.050003</td>\n",
              "      <td>173.539993</td>\n",
              "      <td>171.600006</td>\n",
              "      <td>171.770004</td>\n",
              "      <td>171.532745</td>\n",
              "      <td>45326900</td>\n",
              "    </tr>\n",
              "    <tr>\n",
              "      <th>2023-05-10</th>\n",
              "      <td>173.020004</td>\n",
              "      <td>174.029999</td>\n",
              "      <td>171.899994</td>\n",
              "      <td>173.559998</td>\n",
              "      <td>173.320267</td>\n",
              "      <td>53724500</td>\n",
              "    </tr>\n",
              "    <tr>\n",
              "      <th>2023-05-11</th>\n",
              "      <td>173.850006</td>\n",
              "      <td>174.589996</td>\n",
              "      <td>172.169998</td>\n",
              "      <td>173.750000</td>\n",
              "      <td>173.510010</td>\n",
              "      <td>49514700</td>\n",
              "    </tr>\n",
              "    <tr>\n",
              "      <th>2023-05-12</th>\n",
              "      <td>173.619995</td>\n",
              "      <td>174.059998</td>\n",
              "      <td>171.000000</td>\n",
              "      <td>172.570007</td>\n",
              "      <td>172.570007</td>\n",
              "      <td>45497800</td>\n",
              "    </tr>\n",
              "    <tr>\n",
              "      <th>2023-05-15</th>\n",
              "      <td>173.160004</td>\n",
              "      <td>173.210007</td>\n",
              "      <td>171.470001</td>\n",
              "      <td>171.729996</td>\n",
              "      <td>171.729996</td>\n",
              "      <td>26048954</td>\n",
              "    </tr>\n",
              "  </tbody>\n",
              "</table>\n",
              "<p>4489 rows × 6 columns</p>\n",
              "</div>\n",
              "      <button class=\"colab-df-convert\" onclick=\"convertToInteractive('df-73573207-3b42-4af7-85ee-79a3ffe706a7')\"\n",
              "              title=\"Convert this dataframe to an interactive table.\"\n",
              "              style=\"display:none;\">\n",
              "\n",
              "  <svg xmlns=\"http://www.w3.org/2000/svg\" height=\"24px\"viewBox=\"0 0 24 24\"\n",
              "       width=\"24px\">\n",
              "    <path d=\"M0 0h24v24H0V0z\" fill=\"none\"/>\n",
              "    <path d=\"M18.56 5.44l.94 2.06.94-2.06 2.06-.94-2.06-.94-.94-2.06-.94 2.06-2.06.94zm-11 1L8.5 8.5l.94-2.06 2.06-.94-2.06-.94L8.5 2.5l-.94 2.06-2.06.94zm10 10l.94 2.06.94-2.06 2.06-.94-2.06-.94-.94-2.06-.94 2.06-2.06.94z\"/><path d=\"M17.41 7.96l-1.37-1.37c-.4-.4-.92-.59-1.43-.59-.52 0-1.04.2-1.43.59L10.3 9.45l-7.72 7.72c-.78.78-.78 2.05 0 2.83L4 21.41c.39.39.9.59 1.41.59.51 0 1.02-.2 1.41-.59l7.78-7.78 2.81-2.81c.8-.78.8-2.07 0-2.86zM5.41 20L4 18.59l7.72-7.72 1.47 1.35L5.41 20z\"/>\n",
              "  </svg>\n",
              "      </button>\n",
              "\n",
              "\n",
              "\n",
              "    <div id=\"df-5093c42f-7416-4644-9502-6ca543f99224\">\n",
              "      <button class=\"colab-df-quickchart\" onclick=\"quickchart('df-5093c42f-7416-4644-9502-6ca543f99224')\"\n",
              "              title=\"Suggest charts.\"\n",
              "              style=\"display:none;\">\n",
              "\n",
              "<svg xmlns=\"http://www.w3.org/2000/svg\" height=\"24px\"viewBox=\"0 0 24 24\"\n",
              "     width=\"24px\">\n",
              "    <g>\n",
              "        <path d=\"M19 3H5c-1.1 0-2 .9-2 2v14c0 1.1.9 2 2 2h14c1.1 0 2-.9 2-2V5c0-1.1-.9-2-2-2zM9 17H7v-7h2v7zm4 0h-2V7h2v10zm4 0h-2v-4h2v4z\"/>\n",
              "    </g>\n",
              "</svg>\n",
              "      </button>\n",
              "    </div>\n",
              "\n",
              "<style>\n",
              "  .colab-df-quickchart {\n",
              "    background-color: #E8F0FE;\n",
              "    border: none;\n",
              "    border-radius: 50%;\n",
              "    cursor: pointer;\n",
              "    display: none;\n",
              "    fill: #1967D2;\n",
              "    height: 32px;\n",
              "    padding: 0 0 0 0;\n",
              "    width: 32px;\n",
              "  }\n",
              "\n",
              "  .colab-df-quickchart:hover {\n",
              "    background-color: #E2EBFA;\n",
              "    box-shadow: 0px 1px 2px rgba(60, 64, 67, 0.3), 0px 1px 3px 1px rgba(60, 64, 67, 0.15);\n",
              "    fill: #174EA6;\n",
              "  }\n",
              "\n",
              "  [theme=dark] .colab-df-quickchart {\n",
              "    background-color: #3B4455;\n",
              "    fill: #D2E3FC;\n",
              "  }\n",
              "\n",
              "  [theme=dark] .colab-df-quickchart:hover {\n",
              "    background-color: #434B5C;\n",
              "    box-shadow: 0px 1px 3px 1px rgba(0, 0, 0, 0.15);\n",
              "    filter: drop-shadow(0px 1px 2px rgba(0, 0, 0, 0.3));\n",
              "    fill: #FFFFFF;\n",
              "  }\n",
              "</style>\n",
              "\n",
              "    <script>\n",
              "      async function quickchart(key) {\n",
              "        const containerElement = document.querySelector('#' + key);\n",
              "        const charts = await google.colab.kernel.invokeFunction(\n",
              "            'suggestCharts', [key], {});\n",
              "      }\n",
              "    </script>\n",
              "\n",
              "      <script>\n",
              "\n",
              "function displayQuickchartButton(domScope) {\n",
              "  let quickchartButtonEl =\n",
              "    domScope.querySelector('#df-5093c42f-7416-4644-9502-6ca543f99224 button.colab-df-quickchart');\n",
              "  quickchartButtonEl.style.display =\n",
              "    google.colab.kernel.accessAllowed ? 'block' : 'none';\n",
              "}\n",
              "\n",
              "        displayQuickchartButton(document);\n",
              "      </script>\n",
              "      <style>\n",
              "    .colab-df-container {\n",
              "      display:flex;\n",
              "      flex-wrap:wrap;\n",
              "      gap: 12px;\n",
              "    }\n",
              "\n",
              "    .colab-df-convert {\n",
              "      background-color: #E8F0FE;\n",
              "      border: none;\n",
              "      border-radius: 50%;\n",
              "      cursor: pointer;\n",
              "      display: none;\n",
              "      fill: #1967D2;\n",
              "      height: 32px;\n",
              "      padding: 0 0 0 0;\n",
              "      width: 32px;\n",
              "    }\n",
              "\n",
              "    .colab-df-convert:hover {\n",
              "      background-color: #E2EBFA;\n",
              "      box-shadow: 0px 1px 2px rgba(60, 64, 67, 0.3), 0px 1px 3px 1px rgba(60, 64, 67, 0.15);\n",
              "      fill: #174EA6;\n",
              "    }\n",
              "\n",
              "    [theme=dark] .colab-df-convert {\n",
              "      background-color: #3B4455;\n",
              "      fill: #D2E3FC;\n",
              "    }\n",
              "\n",
              "    [theme=dark] .colab-df-convert:hover {\n",
              "      background-color: #434B5C;\n",
              "      box-shadow: 0px 1px 3px 1px rgba(0, 0, 0, 0.15);\n",
              "      filter: drop-shadow(0px 1px 2px rgba(0, 0, 0, 0.3));\n",
              "      fill: #FFFFFF;\n",
              "    }\n",
              "  </style>\n",
              "\n",
              "      <script>\n",
              "        const buttonEl =\n",
              "          document.querySelector('#df-73573207-3b42-4af7-85ee-79a3ffe706a7 button.colab-df-convert');\n",
              "        buttonEl.style.display =\n",
              "          google.colab.kernel.accessAllowed ? 'block' : 'none';\n",
              "\n",
              "        async function convertToInteractive(key) {\n",
              "          const element = document.querySelector('#df-73573207-3b42-4af7-85ee-79a3ffe706a7');\n",
              "          const dataTable =\n",
              "            await google.colab.kernel.invokeFunction('convertToInteractive',\n",
              "                                                     [key], {});\n",
              "          if (!dataTable) return;\n",
              "\n",
              "          const docLinkHtml = 'Like what you see? Visit the ' +\n",
              "            '<a target=\"_blank\" href=https://colab.research.google.com/notebooks/data_table.ipynb>data table notebook</a>'\n",
              "            + ' to learn more about interactive tables.';\n",
              "          element.innerHTML = '';\n",
              "          dataTable['output_type'] = 'display_data';\n",
              "          await google.colab.output.renderOutput(dataTable, element);\n",
              "          const docLink = document.createElement('div');\n",
              "          docLink.innerHTML = docLinkHtml;\n",
              "          element.appendChild(docLink);\n",
              "        }\n",
              "      </script>\n",
              "    </div>\n",
              "  </div>\n"
            ]
          },
          "metadata": {},
          "execution_count": 4
        }
      ]
    },
    {
      "cell_type": "code",
      "source": [
        "dataset.describe()"
      ],
      "metadata": {
        "colab": {
          "base_uri": "https://localhost:8080/",
          "height": 300
        },
        "id": "T-DkUwjaU-Gl",
        "outputId": "2881ff01-1d96-4acb-ba04-9e19dddff45f"
      },
      "execution_count": null,
      "outputs": [
        {
          "output_type": "execute_result",
          "data": {
            "text/plain": [
              "              Open         High          Low        Close    Adj Close  \\\n",
              "count  4489.000000  4489.000000  4489.000000  4489.000000  4489.000000   \n",
              "mean     41.566260    42.035752    41.111517    41.593397    39.979073   \n",
              "std      48.101034    48.696328    47.547040    48.150380    48.202301   \n",
              "min       1.463214     1.484643     1.445000     1.481786     1.259433   \n",
              "25%       7.212143     7.281786     7.116071     7.213929     6.131426   \n",
              "50%      23.532499    23.722500    23.260000    23.507500    20.770334   \n",
              "75%      47.500000    47.950001    47.134998    47.572498    45.604332   \n",
              "max     182.630005   182.940002   179.119995   182.009995   180.434296   \n",
              "\n",
              "             Volume  \n",
              "count  4.489000e+03  \n",
              "mean   4.027627e+08  \n",
              "std    3.890110e+08  \n",
              "min    2.604895e+07  \n",
              "25%    1.134760e+08  \n",
              "50%    2.610580e+08  \n",
              "75%    5.759992e+08  \n",
              "max    3.372970e+09  "
            ],
            "text/html": [
              "\n",
              "\n",
              "  <div id=\"df-0f466a13-36a1-4738-9e98-396f5d8b4f36\">\n",
              "    <div class=\"colab-df-container\">\n",
              "      <div>\n",
              "<style scoped>\n",
              "    .dataframe tbody tr th:only-of-type {\n",
              "        vertical-align: middle;\n",
              "    }\n",
              "\n",
              "    .dataframe tbody tr th {\n",
              "        vertical-align: top;\n",
              "    }\n",
              "\n",
              "    .dataframe thead th {\n",
              "        text-align: right;\n",
              "    }\n",
              "</style>\n",
              "<table border=\"1\" class=\"dataframe\">\n",
              "  <thead>\n",
              "    <tr style=\"text-align: right;\">\n",
              "      <th></th>\n",
              "      <th>Open</th>\n",
              "      <th>High</th>\n",
              "      <th>Low</th>\n",
              "      <th>Close</th>\n",
              "      <th>Adj Close</th>\n",
              "      <th>Volume</th>\n",
              "    </tr>\n",
              "  </thead>\n",
              "  <tbody>\n",
              "    <tr>\n",
              "      <th>count</th>\n",
              "      <td>4489.000000</td>\n",
              "      <td>4489.000000</td>\n",
              "      <td>4489.000000</td>\n",
              "      <td>4489.000000</td>\n",
              "      <td>4489.000000</td>\n",
              "      <td>4.489000e+03</td>\n",
              "    </tr>\n",
              "    <tr>\n",
              "      <th>mean</th>\n",
              "      <td>41.566260</td>\n",
              "      <td>42.035752</td>\n",
              "      <td>41.111517</td>\n",
              "      <td>41.593397</td>\n",
              "      <td>39.979073</td>\n",
              "      <td>4.027627e+08</td>\n",
              "    </tr>\n",
              "    <tr>\n",
              "      <th>std</th>\n",
              "      <td>48.101034</td>\n",
              "      <td>48.696328</td>\n",
              "      <td>47.547040</td>\n",
              "      <td>48.150380</td>\n",
              "      <td>48.202301</td>\n",
              "      <td>3.890110e+08</td>\n",
              "    </tr>\n",
              "    <tr>\n",
              "      <th>min</th>\n",
              "      <td>1.463214</td>\n",
              "      <td>1.484643</td>\n",
              "      <td>1.445000</td>\n",
              "      <td>1.481786</td>\n",
              "      <td>1.259433</td>\n",
              "      <td>2.604895e+07</td>\n",
              "    </tr>\n",
              "    <tr>\n",
              "      <th>25%</th>\n",
              "      <td>7.212143</td>\n",
              "      <td>7.281786</td>\n",
              "      <td>7.116071</td>\n",
              "      <td>7.213929</td>\n",
              "      <td>6.131426</td>\n",
              "      <td>1.134760e+08</td>\n",
              "    </tr>\n",
              "    <tr>\n",
              "      <th>50%</th>\n",
              "      <td>23.532499</td>\n",
              "      <td>23.722500</td>\n",
              "      <td>23.260000</td>\n",
              "      <td>23.507500</td>\n",
              "      <td>20.770334</td>\n",
              "      <td>2.610580e+08</td>\n",
              "    </tr>\n",
              "    <tr>\n",
              "      <th>75%</th>\n",
              "      <td>47.500000</td>\n",
              "      <td>47.950001</td>\n",
              "      <td>47.134998</td>\n",
              "      <td>47.572498</td>\n",
              "      <td>45.604332</td>\n",
              "      <td>5.759992e+08</td>\n",
              "    </tr>\n",
              "    <tr>\n",
              "      <th>max</th>\n",
              "      <td>182.630005</td>\n",
              "      <td>182.940002</td>\n",
              "      <td>179.119995</td>\n",
              "      <td>182.009995</td>\n",
              "      <td>180.434296</td>\n",
              "      <td>3.372970e+09</td>\n",
              "    </tr>\n",
              "  </tbody>\n",
              "</table>\n",
              "</div>\n",
              "      <button class=\"colab-df-convert\" onclick=\"convertToInteractive('df-0f466a13-36a1-4738-9e98-396f5d8b4f36')\"\n",
              "              title=\"Convert this dataframe to an interactive table.\"\n",
              "              style=\"display:none;\">\n",
              "\n",
              "  <svg xmlns=\"http://www.w3.org/2000/svg\" height=\"24px\"viewBox=\"0 0 24 24\"\n",
              "       width=\"24px\">\n",
              "    <path d=\"M0 0h24v24H0V0z\" fill=\"none\"/>\n",
              "    <path d=\"M18.56 5.44l.94 2.06.94-2.06 2.06-.94-2.06-.94-.94-2.06-.94 2.06-2.06.94zm-11 1L8.5 8.5l.94-2.06 2.06-.94-2.06-.94L8.5 2.5l-.94 2.06-2.06.94zm10 10l.94 2.06.94-2.06 2.06-.94-2.06-.94-.94-2.06-.94 2.06-2.06.94z\"/><path d=\"M17.41 7.96l-1.37-1.37c-.4-.4-.92-.59-1.43-.59-.52 0-1.04.2-1.43.59L10.3 9.45l-7.72 7.72c-.78.78-.78 2.05 0 2.83L4 21.41c.39.39.9.59 1.41.59.51 0 1.02-.2 1.41-.59l7.78-7.78 2.81-2.81c.8-.78.8-2.07 0-2.86zM5.41 20L4 18.59l7.72-7.72 1.47 1.35L5.41 20z\"/>\n",
              "  </svg>\n",
              "      </button>\n",
              "\n",
              "\n",
              "\n",
              "    <div id=\"df-1a0c7980-38bb-41ca-82bb-97a820c52fa5\">\n",
              "      <button class=\"colab-df-quickchart\" onclick=\"quickchart('df-1a0c7980-38bb-41ca-82bb-97a820c52fa5')\"\n",
              "              title=\"Suggest charts.\"\n",
              "              style=\"display:none;\">\n",
              "\n",
              "<svg xmlns=\"http://www.w3.org/2000/svg\" height=\"24px\"viewBox=\"0 0 24 24\"\n",
              "     width=\"24px\">\n",
              "    <g>\n",
              "        <path d=\"M19 3H5c-1.1 0-2 .9-2 2v14c0 1.1.9 2 2 2h14c1.1 0 2-.9 2-2V5c0-1.1-.9-2-2-2zM9 17H7v-7h2v7zm4 0h-2V7h2v10zm4 0h-2v-4h2v4z\"/>\n",
              "    </g>\n",
              "</svg>\n",
              "      </button>\n",
              "    </div>\n",
              "\n",
              "<style>\n",
              "  .colab-df-quickchart {\n",
              "    background-color: #E8F0FE;\n",
              "    border: none;\n",
              "    border-radius: 50%;\n",
              "    cursor: pointer;\n",
              "    display: none;\n",
              "    fill: #1967D2;\n",
              "    height: 32px;\n",
              "    padding: 0 0 0 0;\n",
              "    width: 32px;\n",
              "  }\n",
              "\n",
              "  .colab-df-quickchart:hover {\n",
              "    background-color: #E2EBFA;\n",
              "    box-shadow: 0px 1px 2px rgba(60, 64, 67, 0.3), 0px 1px 3px 1px rgba(60, 64, 67, 0.15);\n",
              "    fill: #174EA6;\n",
              "  }\n",
              "\n",
              "  [theme=dark] .colab-df-quickchart {\n",
              "    background-color: #3B4455;\n",
              "    fill: #D2E3FC;\n",
              "  }\n",
              "\n",
              "  [theme=dark] .colab-df-quickchart:hover {\n",
              "    background-color: #434B5C;\n",
              "    box-shadow: 0px 1px 3px 1px rgba(0, 0, 0, 0.15);\n",
              "    filter: drop-shadow(0px 1px 2px rgba(0, 0, 0, 0.3));\n",
              "    fill: #FFFFFF;\n",
              "  }\n",
              "</style>\n",
              "\n",
              "    <script>\n",
              "      async function quickchart(key) {\n",
              "        const containerElement = document.querySelector('#' + key);\n",
              "        const charts = await google.colab.kernel.invokeFunction(\n",
              "            'suggestCharts', [key], {});\n",
              "      }\n",
              "    </script>\n",
              "\n",
              "      <script>\n",
              "\n",
              "function displayQuickchartButton(domScope) {\n",
              "  let quickchartButtonEl =\n",
              "    domScope.querySelector('#df-1a0c7980-38bb-41ca-82bb-97a820c52fa5 button.colab-df-quickchart');\n",
              "  quickchartButtonEl.style.display =\n",
              "    google.colab.kernel.accessAllowed ? 'block' : 'none';\n",
              "}\n",
              "\n",
              "        displayQuickchartButton(document);\n",
              "      </script>\n",
              "      <style>\n",
              "    .colab-df-container {\n",
              "      display:flex;\n",
              "      flex-wrap:wrap;\n",
              "      gap: 12px;\n",
              "    }\n",
              "\n",
              "    .colab-df-convert {\n",
              "      background-color: #E8F0FE;\n",
              "      border: none;\n",
              "      border-radius: 50%;\n",
              "      cursor: pointer;\n",
              "      display: none;\n",
              "      fill: #1967D2;\n",
              "      height: 32px;\n",
              "      padding: 0 0 0 0;\n",
              "      width: 32px;\n",
              "    }\n",
              "\n",
              "    .colab-df-convert:hover {\n",
              "      background-color: #E2EBFA;\n",
              "      box-shadow: 0px 1px 2px rgba(60, 64, 67, 0.3), 0px 1px 3px 1px rgba(60, 64, 67, 0.15);\n",
              "      fill: #174EA6;\n",
              "    }\n",
              "\n",
              "    [theme=dark] .colab-df-convert {\n",
              "      background-color: #3B4455;\n",
              "      fill: #D2E3FC;\n",
              "    }\n",
              "\n",
              "    [theme=dark] .colab-df-convert:hover {\n",
              "      background-color: #434B5C;\n",
              "      box-shadow: 0px 1px 3px 1px rgba(0, 0, 0, 0.15);\n",
              "      filter: drop-shadow(0px 1px 2px rgba(0, 0, 0, 0.3));\n",
              "      fill: #FFFFFF;\n",
              "    }\n",
              "  </style>\n",
              "\n",
              "      <script>\n",
              "        const buttonEl =\n",
              "          document.querySelector('#df-0f466a13-36a1-4738-9e98-396f5d8b4f36 button.colab-df-convert');\n",
              "        buttonEl.style.display =\n",
              "          google.colab.kernel.accessAllowed ? 'block' : 'none';\n",
              "\n",
              "        async function convertToInteractive(key) {\n",
              "          const element = document.querySelector('#df-0f466a13-36a1-4738-9e98-396f5d8b4f36');\n",
              "          const dataTable =\n",
              "            await google.colab.kernel.invokeFunction('convertToInteractive',\n",
              "                                                     [key], {});\n",
              "          if (!dataTable) return;\n",
              "\n",
              "          const docLinkHtml = 'Like what you see? Visit the ' +\n",
              "            '<a target=\"_blank\" href=https://colab.research.google.com/notebooks/data_table.ipynb>data table notebook</a>'\n",
              "            + ' to learn more about interactive tables.';\n",
              "          element.innerHTML = '';\n",
              "          dataTable['output_type'] = 'display_data';\n",
              "          await google.colab.output.renderOutput(dataTable, element);\n",
              "          const docLink = document.createElement('div');\n",
              "          docLink.innerHTML = docLinkHtml;\n",
              "          element.appendChild(docLink);\n",
              "        }\n",
              "      </script>\n",
              "    </div>\n",
              "  </div>\n"
            ]
          },
          "metadata": {},
          "execution_count": 4
        }
      ]
    },
    {
      "cell_type": "code",
      "source": [
        "dataset.info()"
      ],
      "metadata": {
        "colab": {
          "base_uri": "https://localhost:8080/"
        },
        "id": "lQy_rdw1U-Iw",
        "outputId": "fbf4c0ce-32ff-4ab6-cd23-86d0aa45ee42"
      },
      "execution_count": null,
      "outputs": [
        {
          "output_type": "stream",
          "name": "stdout",
          "text": [
            "<class 'pandas.core.frame.DataFrame'>\n",
            "DatetimeIndex: 4489 entries, 2005-07-15 to 2023-05-15\n",
            "Data columns (total 6 columns):\n",
            " #   Column     Non-Null Count  Dtype  \n",
            "---  ------     --------------  -----  \n",
            " 0   Open       4489 non-null   float64\n",
            " 1   High       4489 non-null   float64\n",
            " 2   Low        4489 non-null   float64\n",
            " 3   Close      4489 non-null   float64\n",
            " 4   Adj Close  4489 non-null   float64\n",
            " 5   Volume     4489 non-null   int64  \n",
            "dtypes: float64(5), int64(1)\n",
            "memory usage: 245.5 KB\n"
          ]
        }
      ]
    },
    {
      "cell_type": "code",
      "source": [
        "def num_missing(x):\n",
        "    return sum(x.isnull())\n",
        "\n",
        "print(\"Missing values per column:\")\n",
        "print(dataset.apply(num_missing, axis=0))\n",
        "\n",
        "print(\"\\nMissing values per row:\")\n",
        "print(dataset.apply(num_missing, axis=1).head())"
      ],
      "metadata": {
        "colab": {
          "base_uri": "https://localhost:8080/"
        },
        "id": "urrzbk7262sG",
        "outputId": "38f33c3e-05bb-468d-d769-ab0a4242d546"
      },
      "execution_count": null,
      "outputs": [
        {
          "output_type": "stream",
          "name": "stdout",
          "text": [
            "Missing values per column:\n",
            "Open         0\n",
            "High         0\n",
            "Low          0\n",
            "Close        0\n",
            "Adj Close    0\n",
            "Volume       0\n",
            "dtype: int64\n",
            "\n",
            "Missing values per row:\n",
            "Date\n",
            "2005-07-15    0\n",
            "2005-07-18    0\n",
            "2005-07-19    0\n",
            "2005-07-20    0\n",
            "2005-07-21    0\n",
            "dtype: int64\n"
          ]
        }
      ]
    },
    {
      "cell_type": "code",
      "source": [
        "#dataset graph\n",
        "dataset[\"High\"].plot(figsize=(14,5),legend=True)\n",
        "plt.title('AAPL stock price',fontsize=18)\n",
        "plt.xlabel('Date',fontsize=18)\n",
        "plt.ylabel('Price',fontsize=18)\n",
        "plt.show()"
      ],
      "metadata": {
        "colab": {
          "base_uri": "https://localhost:8080/",
          "height": 468
        },
        "id": "bdyjn4LE62t1",
        "outputId": "095621b8-e002-4b4e-e0f4-5c1a7fac10d1"
      },
      "execution_count": null,
      "outputs": [
        {
          "output_type": "display_data",
          "data": {
            "text/plain": [
              "<Figure size 1400x500 with 1 Axes>"
            ],
            "image/png": "[encoded data removed]"
          },
          "metadata": {}
        }
      ]
    },
    {
      "cell_type": "code",
      "source": [
        "# train test splitting"
      ],
      "metadata": {
        "id": "y3feqpK_62xX"
      },
      "execution_count": null,
      "outputs": []
    },
    {
      "cell_type": "code",
      "source": [
        "training_set = dataset[:'2020'].iloc[:,1:2].values\n",
        "test_set = dataset['2021':].iloc[:,1:2].values"
      ],
      "metadata": {
        "id": "dlrbgenA62zw"
      },
      "execution_count": null,
      "outputs": []
    },
    {
      "cell_type": "code",
      "source": [
        "training_set.shape"
      ],
      "metadata": {
        "colab": {
          "base_uri": "https://localhost:8080/"
        },
        "id": "j0IWpzd8622q",
        "outputId": "61e99f54-5558-44d6-9d4c-3df2e9740097"
      },
      "execution_count": null,
      "outputs": [
        {
          "output_type": "execute_result",
          "data": {
            "text/plain": [
              "(3894, 1)"
            ]
          },
          "metadata": {},
          "execution_count": 9
        }
      ]
    },
    {
      "cell_type": "code",
      "source": [
        "train_len = training_set.shape[0]\n",
        "train_len"
      ],
      "metadata": {
        "colab": {
          "base_uri": "https://localhost:8080/"
        },
        "id": "cJlxXyAFBlQ1",
        "outputId": "667af0d9-e088-4d52-fdb5-f3fa9831b279"
      },
      "execution_count": null,
      "outputs": [
        {
          "output_type": "execute_result",
          "data": {
            "text/plain": [
              "3894"
            ]
          },
          "metadata": {},
          "execution_count": 6
        }
      ]
    },
    {
      "cell_type": "code",
      "source": [
        "test_set.shape"
      ],
      "metadata": {
        "colab": {
          "base_uri": "https://localhost:8080/"
        },
        "id": "hmnkqH27624V",
        "outputId": "6a86193d-7d52-4dd5-dedc-70e2fb15562b"
      },
      "execution_count": null,
      "outputs": [
        {
          "output_type": "execute_result",
          "data": {
            "text/plain": [
              "(595, 1)"
            ]
          },
          "metadata": {},
          "execution_count": 11
        }
      ]
    },
    {
      "cell_type": "code",
      "source": [
        "dataset[\"High\"][:'2020'].plot(figsize=(16,4),legend=True)\n",
        "dataset[\"High\"]['2021':].plot(figsize=(16,4),legend=True)\n",
        "plt.legend(['Training set','Test set'])\n",
        "plt.xlabel('Date',fontsize=18)\n",
        "plt.ylabel('Price',fontsize=18)\n",
        "plt.title('AAPL stock price')\n",
        "plt.show()"
      ],
      "metadata": {
        "colab": {
          "base_uri": "https://localhost:8080/",
          "height": 352
        },
        "id": "K1T6Pkaa628r",
        "outputId": "e2d15be2-dd70-4dd3-e830-8b5614306c03"
      },
      "execution_count": null,
      "outputs": [
        {
          "output_type": "display_data",
          "data": {
            "text/plain": [
              "<Figure size 1600x400 with 1 Axes>"
            ],
            "image/png": "[encoded data removed]"
          },
          "metadata": {}
        }
      ]
    },
    {
      "cell_type": "code",
      "source": [
        "sc = MinMaxScaler(feature_range=(0,1))\n",
        "training_set_scaled = sc.fit_transform(training_set)"
      ],
      "metadata": {
        "id": "bsXWrMy962_I"
      },
      "execution_count": null,
      "outputs": []
    },
    {
      "cell_type": "code",
      "source": [
        "X_train = []\n",
        "y_train = []\n",
        "for i in range(60,train_len):\n",
        "    X_train.append(training_set_scaled[i-60:i,0])\n",
        "    y_train.append(training_set_scaled[i,0])\n",
        "X_train, y_train = np.array(X_train), np.array(y_train)"
      ],
      "metadata": {
        "id": "ZohtGk5I7yOK"
      },
      "execution_count": null,
      "outputs": []
    },
    {
      "cell_type": "code",
      "source": [
        "X_train.shape"
      ],
      "metadata": {
        "colab": {
          "base_uri": "https://localhost:8080/"
        },
        "id": "muRR9prs7yP8",
        "outputId": "7b14e026-cc14-43d0-ee67-e58612cc1626"
      },
      "execution_count": null,
      "outputs": [
        {
          "output_type": "execute_result",
          "data": {
            "text/plain": [
              "(3834, 60)"
            ]
          },
          "metadata": {},
          "execution_count": 15
        }
      ]
    },
    {
      "cell_type": "code",
      "source": [
        "y_train.shape"
      ],
      "metadata": {
        "colab": {
          "base_uri": "https://localhost:8080/"
        },
        "id": "b9h9msgY7yTE",
        "outputId": "bfd0a678-540e-46c3-8f5e-643511870470"
      },
      "execution_count": null,
      "outputs": [
        {
          "output_type": "execute_result",
          "data": {
            "text/plain": [
              "(3834,)"
            ]
          },
          "metadata": {},
          "execution_count": 16
        }
      ]
    },
    {
      "cell_type": "code",
      "source": [
        "X_train = np.reshape(X_train, (X_train.shape[0],X_train.shape[1],1))\n",
        "X_train.shape"
      ],
      "metadata": {
        "colab": {
          "base_uri": "https://localhost:8080/"
        },
        "id": "JSTG4wN67yVo",
        "outputId": "7faf2cdc-ce7e-42aa-b34f-85ad4cc30cd6"
      },
      "execution_count": null,
      "outputs": [
        {
          "output_type": "execute_result",
          "data": {
            "text/plain": [
              "(3834, 60, 1)"
            ]
          },
          "metadata": {},
          "execution_count": 10
        }
      ]
    },
    {
      "cell_type": "markdown",
      "source": [
        "**MLP Model**"
      ],
      "metadata": {
        "id": "E1OJ2S_NNcpg"
      }
    },
    {
      "cell_type": "code",
      "source": [
        "#train the MLP model"
      ],
      "metadata": {
        "id": "ba_jZ-u-NzHh"
      },
      "execution_count": null,
      "outputs": []
    },
    {
      "cell_type": "code",
      "source": [
        "class stock_predict_DL:\n",
        "\n",
        "    def __init__(self,comp_df):\n",
        "        # We are taking only the High prices for predicting\n",
        "        data = comp_df.filter(['High'])\n",
        "        dataset = data.values\n",
        "        # We take 85% of the data for training and 15% for testing\n",
        "        training_data_len = int(np.ceil( len(dataset) * 0.85 ))\n",
        "        self.scaler = MinMaxScaler(feature_range=(0,1))\n",
        "        scaled_data = self.scaler.fit_transform(dataset)\n",
        "        # dataset for training\n",
        "        train_data = scaled_data[0:int(training_data_len), :]\n",
        "        self.X_train = []\n",
        "        self.y_train = []\n",
        "        for i in range(60, len(train_data)):\n",
        "            self.X_train.append(train_data[i-60:i, 0])\n",
        "            self.y_train.append(train_data[i, 0])\n",
        "\n",
        "        # Convert the self.X_train and self.y_train to numpy arrays\n",
        "        self.X_train, self.y_train = np.array(self.X_train), np.array(self.y_train)\n",
        "\n",
        "        # Create the testing data set\n",
        "        test_data = scaled_data[training_data_len - 60: , :]\n",
        "        self.X_test = []\n",
        "        self.y_test = dataset[training_data_len:, :]\n",
        "        for i in range(60, len(test_data)):\n",
        "            self.X_test.append(test_data[i-60:i, 0])\n",
        "\n",
        "        # Convert the data to a numpy array\n",
        "        self.X_test = np.array(self.X_test)\n",
        "        test_dates = comp_df['Date'].values\n",
        "\n",
        "    def Mlp_model(self):\n",
        "        print(\"Multilayer perceptron (MLP)\")\n",
        "        # We are using MLPRegressor as the problem at hand is a regression problem\n",
        "        regr = MLPRegressor(hidden_layer_sizes = 100, alpha = 0.01,solver = 'lbfgs',shuffle=True)\n",
        "        regr.fit(self.X_train, self.y_train)\n",
        "        # predicting the price\n",
        "        y_pred = regr.predict(self.X_test)\n",
        "        y_pred = y_pred.reshape(len(y_pred),1)\n",
        "        y_pred = self.scaler.inverse_transform(y_pred)\n",
        "        # calculate error and accuracy\n",
        "        #mse\n",
        "        mse = mean_squared_error(self.y_test, y_pred)\n",
        "        print(\"The Mean Squared Error is {}.\".format(mse))\n",
        "        #rmse\n",
        "        rmse = math.sqrt(mean_squared_error(self.y_test, y_pred))\n",
        "        print(\"The root mean squared error is {}.\".format(rmse))\n",
        "        #mae\n",
        "        mae = mean_absolute_error(self.y_test, y_pred)\n",
        "        print(\"The Mean Absolute Error of our Model is {}\".format(mae))\n",
        "        #r2 score\n",
        "        score = r2_score(self.y_test, y_pred)\n",
        "        # print(\"The r2_score is {}.\".format(score))\n",
        "        print(\"The accuracy of our model is {}%\".format(round(score, 2) *100))\n",
        "        # plot the graph\n",
        "        plt.plot(y_pred, color='red')\n",
        "        plt.plot(self.y_test, color='blue')\n",
        "        plt.legend([\"Predicted\",\"Observed\"])\n",
        "        plt.xlabel('Date',fontsize=14)\n",
        "        plt.ylabel('Price',fontsize=14)\n",
        "        plt.title(\"MLP\",fontsize=19)"
      ],
      "metadata": {
        "id": "GZwk-xpONayE"
      },
      "execution_count": null,
      "outputs": []
    },
    {
      "cell_type": "code",
      "source": [
        "#MLP results\n",
        "company_stock = stock_predict_DL(data)\n",
        "company_stock.Mlp_model()"
      ],
      "metadata": {
        "colab": {
          "base_uri": "https://localhost:8080/",
          "height": 570
        },
        "id": "yH3EWAKMKWNm",
        "outputId": "4f627464-8076-4ca8-f99d-ffccbeb72261"
      },
      "execution_count": null,
      "outputs": [
        {
          "output_type": "stream",
          "name": "stdout",
          "text": [
            "Multilayer perceptron (MLP)\n",
            "The Mean Squared Error is 80.88223286449747.\n",
            "The root mean squared error is 8.993455001527359.\n",
            "The Mean Absolute Error of our Model is 7.229646665019355\n",
            "The accuracy of our model is 73.0%\n"
          ]
        },
        {
          "output_type": "display_data",
          "data": {
            "text/plain": [
              "<Figure size 640x480 with 1 Axes>"
            ],
            "image/png": "[encoded data removed]"
          },
          "metadata": {}
        }
      ]
    },
    {
      "cell_type": "markdown",
      "source": [
        "**LSTM Model**"
      ],
      "metadata": {
        "id": "dkeM7o4NNAvo"
      }
    },
    {
      "cell_type": "code",
      "source": [
        "#train the LSTM model"
      ],
      "metadata": {
        "id": "M8hggfQj7yYg"
      },
      "execution_count": null,
      "outputs": []
    },
    {
      "cell_type": "code",
      "source": [
        "# The LSTM architecture\n",
        "regressor = Sequential()\n",
        "# First LSTM layer with Dropout regularisation\n",
        "regressor.add(LSTM(units=50, return_sequences=True, input_shape=(X_train.shape[1],1)))\n",
        "regressor.add(Dropout(0.2))\n",
        "# Second LSTM layer\n",
        "regressor.add(LSTM(units=50, return_sequences=True))\n",
        "regressor.add(Dropout(0.2))\n",
        "# Third LSTM layer\n",
        "regressor.add(LSTM(units=50, return_sequences=True))\n",
        "regressor.add(Dropout(0.2))\n",
        "# Fourth LSTM layer\n",
        "regressor.add(LSTM(units=50))\n",
        "regressor.add(Dropout(0.2))\n",
        "# The output layer\n",
        "regressor.add(Dense(units=1))\n",
        "\n",
        "# Compiling the RNN\n",
        "regressor.compile(optimizer='rmsprop',loss='mean_squared_error')\n",
        "# Fitting to the training set\n",
        "regressor.fit(X_train,y_train,epochs=50,batch_size=32)"
      ],
      "metadata": {
        "colab": {
          "base_uri": "https://localhost:8080/"
        },
        "id": "gxdwPHCS7yaO",
        "outputId": "a13b00d2-b1f3-4b5c-b999-362c4fa4b748"
      },
      "execution_count": null,
      "outputs": [
        {
          "output_type": "stream",
          "name": "stdout",
          "text": [
            "Epoch 1/50\n",
            "120/120 [==============================] - 29s 156ms/step - loss: 0.0044\n",
            "Epoch 2/50\n",
            "120/120 [==============================] - 18s 152ms/step - loss: 0.0021\n",
            "Epoch 3/50\n",
            "120/120 [==============================] - 20s 167ms/step - loss: 0.0016\n",
            "Epoch 4/50\n",
            "120/120 [==============================] - 18s 152ms/step - loss: 0.0013\n",
            "Epoch 5/50\n",
            "120/120 [==============================] - 20s 165ms/step - loss: 0.0013\n",
            "Epoch 6/50\n",
            "120/120 [==============================] - 18s 154ms/step - loss: 0.0010\n",
            "Epoch 7/50\n",
            "120/120 [==============================] - 19s 159ms/step - loss: 0.0010\n",
            "Epoch 8/50\n",
            "120/120 [==============================] - 18s 154ms/step - loss: 8.8624e-04\n",
            "Epoch 9/50\n",
            "120/120 [==============================] - 19s 158ms/step - loss: 9.3444e-04\n",
            "Epoch 10/50\n",
            "120/120 [==============================] - 18s 153ms/step - loss: 8.7510e-04\n",
            "Epoch 11/50\n",
            "120/120 [==============================] - 18s 154ms/step - loss: 8.4213e-04\n",
            "Epoch 12/50\n",
            "120/120 [==============================] - 19s 163ms/step - loss: 8.7737e-04\n",
            "Epoch 13/50\n",
            "120/120 [==============================] - 18s 149ms/step - loss: 8.9025e-04\n",
            "Epoch 14/50\n",
            "120/120 [==============================] - 20s 165ms/step - loss: 7.6399e-04\n",
            "Epoch 15/50\n",
            "120/120 [==============================] - 18s 152ms/step - loss: 8.4595e-04\n",
            "Epoch 16/50\n",
            "120/120 [==============================] - 18s 154ms/step - loss: 7.3006e-04\n",
            "Epoch 17/50\n",
            "120/120 [==============================] - 19s 159ms/step - loss: 7.5491e-04\n",
            "Epoch 18/50\n",
            "120/120 [==============================] - 18s 150ms/step - loss: 7.5437e-04\n",
            "Epoch 19/50\n",
            "120/120 [==============================] - 20s 162ms/step - loss: 6.4176e-04\n",
            "Epoch 20/50\n",
            "120/120 [==============================] - 18s 153ms/step - loss: 6.8211e-04\n",
            "Epoch 21/50\n",
            "120/120 [==============================] - 20s 163ms/step - loss: 7.5171e-04\n",
            "Epoch 22/50\n",
            "120/120 [==============================] - 18s 150ms/step - loss: 6.6531e-04\n",
            "Epoch 23/50\n",
            "120/120 [==============================] - 18s 153ms/step - loss: 6.0402e-04\n",
            "Epoch 24/50\n",
            "120/120 [==============================] - 19s 157ms/step - loss: 5.8117e-04\n",
            "Epoch 25/50\n",
            "120/120 [==============================] - 18s 150ms/step - loss: 7.2391e-04\n",
            "Epoch 26/50\n",
            "120/120 [==============================] - 19s 161ms/step - loss: 5.9806e-04\n",
            "Epoch 27/50\n",
            "120/120 [==============================] - 18s 153ms/step - loss: 6.5039e-04\n",
            "Epoch 28/50\n",
            "120/120 [==============================] - 19s 155ms/step - loss: 6.6445e-04\n",
            "Epoch 29/50\n",
            "120/120 [==============================] - 19s 154ms/step - loss: 6.3296e-04\n",
            "Epoch 30/50\n",
            "120/120 [==============================] - 18s 149ms/step - loss: 5.9367e-04\n",
            "Epoch 31/50\n",
            "120/120 [==============================] - 19s 160ms/step - loss: 6.5191e-04\n",
            "Epoch 32/50\n",
            "120/120 [==============================] - 18s 154ms/step - loss: 6.2659e-04\n",
            "Epoch 33/50\n",
            "120/120 [==============================] - 19s 161ms/step - loss: 5.7884e-04\n",
            "Epoch 34/50\n",
            "120/120 [==============================] - 19s 156ms/step - loss: 5.5645e-04\n",
            "Epoch 35/50\n",
            "120/120 [==============================] - 20s 165ms/step - loss: 6.5344e-04\n",
            "Epoch 36/50\n",
            "120/120 [==============================] - 18s 150ms/step - loss: 5.6585e-04\n",
            "Epoch 37/50\n",
            "120/120 [==============================] - 18s 147ms/step - loss: 6.0814e-04\n",
            "Epoch 38/50\n",
            "120/120 [==============================] - 19s 160ms/step - loss: 5.8122e-04\n",
            "Epoch 39/50\n",
            "120/120 [==============================] - 18s 154ms/step - loss: 5.6099e-04\n",
            "Epoch 40/50\n",
            "120/120 [==============================] - 20s 163ms/step - loss: 5.5946e-04\n",
            "Epoch 41/50\n",
            "120/120 [==============================] - 18s 151ms/step - loss: 5.9837e-04\n",
            "Epoch 42/50\n",
            "120/120 [==============================] - 19s 162ms/step - loss: 5.7313e-04\n",
            "Epoch 43/50\n",
            "120/120 [==============================] - 18s 151ms/step - loss: 5.5543e-04\n",
            "Epoch 44/50\n",
            "120/120 [==============================] - 19s 157ms/step - loss: 5.5984e-04\n",
            "Epoch 45/50\n",
            "120/120 [==============================] - 20s 165ms/step - loss: 5.1432e-04\n",
            "Epoch 46/50\n",
            "120/120 [==============================] - 18s 153ms/step - loss: 5.3039e-04\n",
            "Epoch 47/50\n",
            "120/120 [==============================] - 19s 162ms/step - loss: 5.7192e-04\n",
            "Epoch 48/50\n",
            "120/120 [==============================] - 18s 152ms/step - loss: 5.6390e-04\n",
            "Epoch 49/50\n",
            "120/120 [==============================] - 19s 162ms/step - loss: 5.1583e-04\n",
            "Epoch 50/50\n",
            "120/120 [==============================] - 18s 153ms/step - loss: 5.1570e-04\n"
          ]
        },
        {
          "output_type": "execute_result",
          "data": {
            "text/plain": [
              "<keras.callbacks.History at 0x7d3bbd336ef0>"
            ]
          },
          "metadata": {},
          "execution_count": 121
        }
      ]
    },
    {
      "cell_type": "code",
      "source": [
        "dataset_total = pd.concat((dataset[\"High\"][:'2020'],dataset[\"High\"]['2021':]),axis=0)"
      ],
      "metadata": {
        "id": "MP_Zbu6v7ydw"
      },
      "execution_count": null,
      "outputs": []
    },
    {
      "cell_type": "code",
      "source": [
        "dataset_total.shape"
      ],
      "metadata": {
        "colab": {
          "base_uri": "https://localhost:8080/"
        },
        "id": "xUFKeVXP7yfm",
        "outputId": "84eb96e6-e67b-466f-963e-e835fbbcf35b"
      },
      "execution_count": null,
      "outputs": [
        {
          "output_type": "execute_result",
          "data": {
            "text/plain": [
              "(4489,)"
            ]
          },
          "metadata": {},
          "execution_count": 123
        }
      ]
    },
    {
      "cell_type": "code",
      "source": [
        "test_set.shape"
      ],
      "metadata": {
        "colab": {
          "base_uri": "https://localhost:8080/"
        },
        "id": "fNjDpQo9AIf6",
        "outputId": "f93d0457-bbc7-4209-8916-28cade564a02"
      },
      "execution_count": null,
      "outputs": [
        {
          "output_type": "execute_result",
          "data": {
            "text/plain": [
              "(595, 1)"
            ]
          },
          "metadata": {},
          "execution_count": 56
        }
      ]
    },
    {
      "cell_type": "code",
      "source": [
        "inputs = dataset_total[len(dataset_total)-len(test_set) - 60:].values\n",
        "inputs.shape"
      ],
      "metadata": {
        "colab": {
          "base_uri": "https://localhost:8080/"
        },
        "id": "zw5FI9uYAIiA",
        "outputId": "b794139d-6c07-4cef-ff70-8d4bfc6a8a05"
      },
      "execution_count": null,
      "outputs": [
        {
          "output_type": "execute_result",
          "data": {
            "text/plain": [
              "(655,)"
            ]
          },
          "metadata": {},
          "execution_count": 124
        }
      ]
    },
    {
      "cell_type": "code",
      "source": [
        "input_len = inputs.shape[0]\n",
        "input_len"
      ],
      "metadata": {
        "colab": {
          "base_uri": "https://localhost:8080/"
        },
        "id": "7oI49-9nCz6S",
        "outputId": "eff00402-95a1-4fdb-f58d-d67256a91b22"
      },
      "execution_count": null,
      "outputs": [
        {
          "output_type": "execute_result",
          "data": {
            "text/plain": [
              "655"
            ]
          },
          "metadata": {},
          "execution_count": 125
        }
      ]
    },
    {
      "cell_type": "code",
      "source": [
        "inputs = inputs.reshape(-1,1)\n",
        "inputs  = sc.transform(inputs)"
      ],
      "metadata": {
        "id": "Aur3m8jIAInK"
      },
      "execution_count": null,
      "outputs": []
    },
    {
      "cell_type": "code",
      "source": [
        "X_test = []\n",
        "for i in range(60,input_len):\n",
        "    X_test.append(inputs[i-60:i,0])\n",
        "X_test = np.array(X_test)\n",
        "X_test = np.reshape(X_test, (X_test.shape[0],X_test.shape[1],1))\n",
        "predicted_stock_price = regressor.predict(X_test)\n",
        "predicted_stock_price = sc.inverse_transform(predicted_stock_price)"
      ],
      "metadata": {
        "colab": {
          "base_uri": "https://localhost:8080/"
        },
        "id": "RIMwyAxRAIqb",
        "outputId": "4decda95-3c3c-4769-ea87-03c6de4abcf4"
      },
      "execution_count": null,
      "outputs": [
        {
          "output_type": "stream",
          "name": "stdout",
          "text": [
            "19/19 [==============================] - 2s 41ms/step\n"
          ]
        }
      ]
    },
    {
      "cell_type": "code",
      "source": [
        "#LSTM results\n",
        "#ploting the graph\n",
        "plt.plot(test_set, color='red',label='Real AAPL Stock Price')\n",
        "plt.plot(predicted_stock_price, color='blue',label='Predicted AAPL Stock Price')\n",
        "plt.title('AAPL Stock Price Prediction')\n",
        "plt.xlabel('Time')\n",
        "plt.ylabel('Price')\n",
        "plt.legend()\n",
        "plt.show()"
      ],
      "metadata": {
        "colab": {
          "base_uri": "https://localhost:8080/",
          "height": 472
        },
        "id": "Bn0sKAySAIvx",
        "outputId": "33ff8ca5-f7d8-4c76-a627-c71922dbf829"
      },
      "execution_count": null,
      "outputs": [
        {
          "output_type": "display_data",
          "data": {
            "text/plain": [
              "<Figure size 640x480 with 1 Axes>"
            ],
            "image/png": "[encoded data removed]"
          },
          "metadata": {}
        }
      ]
    },
    {
      "cell_type": "code",
      "source": [
        "#errors calculation\n",
        "#MSE\n",
        "mse = mean_squared_error(test_set, predicted_stock_price)\n",
        "print(\"The mean squared error is {}.\".format(round(mse, 2)))\n",
        "#RMSE\n",
        "rmse = math.sqrt(mean_squared_error(test_set, predicted_stock_price))\n",
        "print(\"The root mean squared error is {}.\".format(round(rmse, 2)))\n",
        "\n",
        "#MAE\n",
        "score = mean_absolute_error(test_set, predicted_stock_price)\n",
        "print(\"The Mean Absolute Error of our Model is {}\".format(round(score, 2)))"
      ],
      "metadata": {
        "colab": {
          "base_uri": "https://localhost:8080/"
        },
        "id": "efRstRJSAIzH",
        "outputId": "d0447504-e185-4dd7-a339-bdad11d83c06"
      },
      "execution_count": null,
      "outputs": [
        {
          "output_type": "stream",
          "name": "stdout",
          "text": [
            "The mean squared error is 37.96.\n",
            "The root mean squared error is 6.16.\n",
            "The Mean Absolute Error of our Model is 5.03\n"
          ]
        }
      ]
    },
    {
      "cell_type": "code",
      "source": [
        "#Accuracy using R2 score\n",
        "LSTM_score = r2_score(test_set, predicted_stock_price)\n",
        "print(\"The accuracy of LSTM model is {}%\".format(round(LSTM_score, 2) *100))"
      ],
      "metadata": {
        "colab": {
          "base_uri": "https://localhost:8080/"
        },
        "id": "fG_bad_KAI03",
        "outputId": "623bd5a3-f91e-409d-f15a-8b6f32b208c3"
      },
      "execution_count": null,
      "outputs": [
        {
          "output_type": "stream",
          "name": "stdout",
          "text": [
            "The accuracy of LSTM model is (0.8377577730713371, 2, 0.8377577730713371, 2, 0.8377577730713371, 2, 0.8377577730713371, 2, 0.8377577730713371, 2, 0.8377577730713371, 2, 0.8377577730713371, 2, 0.8377577730713371, 2, 0.8377577730713371, 2, 0.8377577730713371, 2, 0.8377577730713371, 2, 0.8377577730713371, 2, 0.8377577730713371, 2, 0.8377577730713371, 2, 0.8377577730713371, 2, 0.8377577730713371, 2, 0.8377577730713371, 2, 0.8377577730713371, 2, 0.8377577730713371, 2, 0.8377577730713371, 2, 0.8377577730713371, 2, 0.8377577730713371, 2, 0.8377577730713371, 2, 0.8377577730713371, 2, 0.8377577730713371, 2, 0.8377577730713371, 2, 0.8377577730713371, 2, 0.8377577730713371, 2, 0.8377577730713371, 2, 0.8377577730713371, 2, 0.8377577730713371, 2, 0.8377577730713371, 2, 0.8377577730713371, 2, 0.8377577730713371, 2, 0.8377577730713371, 2, 0.8377577730713371, 2, 0.8377577730713371, 2, 0.8377577730713371, 2, 0.8377577730713371, 2, 0.8377577730713371, 2, 0.8377577730713371, 2, 0.8377577730713371, 2, 0.8377577730713371, 2, 0.8377577730713371, 2, 0.8377577730713371, 2, 0.8377577730713371, 2, 0.8377577730713371, 2, 0.8377577730713371, 2, 0.8377577730713371, 2, 0.8377577730713371, 2, 0.8377577730713371, 2, 0.8377577730713371, 2, 0.8377577730713371, 2, 0.8377577730713371, 2, 0.8377577730713371, 2, 0.8377577730713371, 2, 0.8377577730713371, 2, 0.8377577730713371, 2, 0.8377577730713371, 2, 0.8377577730713371, 2, 0.8377577730713371, 2, 0.8377577730713371, 2, 0.8377577730713371, 2, 0.8377577730713371, 2, 0.8377577730713371, 2, 0.8377577730713371, 2, 0.8377577730713371, 2, 0.8377577730713371, 2, 0.8377577730713371, 2, 0.8377577730713371, 2, 0.8377577730713371, 2, 0.8377577730713371, 2, 0.8377577730713371, 2, 0.8377577730713371, 2, 0.8377577730713371, 2, 0.8377577730713371, 2, 0.8377577730713371, 2, 0.8377577730713371, 2, 0.8377577730713371, 2, 0.8377577730713371, 2, 0.8377577730713371, 2, 0.8377577730713371, 2, 0.8377577730713371, 2, 0.8377577730713371, 2, 0.8377577730713371, 2, 0.8377577730713371, 2, 0.8377577730713371, 2, 0.8377577730713371, 2, 0.8377577730713371, 2, 0.8377577730713371, 2, 0.8377577730713371, 2, 0.8377577730713371, 2, 0.8377577730713371, 2, 0.8377577730713371, 2, 0.8377577730713371, 2, 0.8377577730713371, 2, 0.8377577730713371, 2, 0.8377577730713371, 2, 0.8377577730713371, 2, 0.8377577730713371, 2)%\n"
          ]
        }
      ]
    },
    {
      "cell_type": "markdown",
      "source": [
        "**GRU model**"
      ],
      "metadata": {
        "id": "9m9xfgTMMnrj"
      }
    },
    {
      "cell_type": "code",
      "source": [
        "#train the GRU model"
      ],
      "metadata": {
        "id": "gz9yy3YwMVNT"
      },
      "execution_count": null,
      "outputs": []
    },
    {
      "cell_type": "code",
      "source": [
        "#GRU_ Architecture\n",
        "regressorGRU = Sequential()\n",
        "# First GRU layer with Dropout regularisation\n",
        "regressorGRU.add(GRU(units=50, return_sequences=True, input_shape=(X_train.shape[1],1), activation='tanh'))\n",
        "regressorGRU.add(Dropout(0.2))\n",
        "# Second GRU layer\n",
        "regressorGRU.add(GRU(units=50, return_sequences=True, input_shape=(X_train.shape[1],1), activation='tanh'))\n",
        "regressorGRU.add(Dropout(0.2))\n",
        "# Third GRU layer\n",
        "regressorGRU.add(GRU(units=50, return_sequences=True, input_shape=(X_train.shape[1],1), activation='tanh'))\n",
        "regressorGRU.add(Dropout(0.2))\n",
        "# Fourth GRU layer\n",
        "regressorGRU.add(GRU(units=50, activation='tanh'))\n",
        "regressorGRU.add(Dropout(0.2))\n",
        "# The output layer\n",
        "regressorGRU.add(Dense(units=1))\n",
        "# Compiling the RNN\n",
        "regressorGRU.compile(optimizer=SGD(lr=0.01, decay=1e-7, momentum=0.9, nesterov=False),loss='mean_squared_error')\n",
        "# Fitting to the training set\n",
        "regressorGRU.fit(X_train,y_train,epochs=50,batch_size=150)"
      ],
      "metadata": {
        "colab": {
          "base_uri": "https://localhost:8080/"
        },
        "id": "_XRzQWoVHCtj",
        "outputId": "29aa6980-ae98-4796-9d37-94bee5bdbad5"
      },
      "execution_count": null,
      "outputs": [
        {
          "output_type": "stream",
          "name": "stdout",
          "text": [
            "Epoch 1/50\n",
            "26/26 [==============================] - 17s 310ms/step - loss: 0.0349\n",
            "Epoch 2/50\n",
            "26/26 [==============================] - 9s 329ms/step - loss: 0.0202\n",
            "Epoch 3/50\n",
            "26/26 [==============================] - 9s 340ms/step - loss: 0.0089\n",
            "Epoch 4/50\n",
            "26/26 [==============================] - 8s 291ms/step - loss: 0.0020\n",
            "Epoch 5/50\n",
            "26/26 [==============================] - 9s 327ms/step - loss: 0.0012\n",
            "Epoch 6/50\n",
            "26/26 [==============================] - 9s 347ms/step - loss: 0.0011\n",
            "Epoch 7/50\n",
            "26/26 [==============================] - 8s 300ms/step - loss: 0.0012\n",
            "Epoch 8/50\n",
            "26/26 [==============================] - 9s 340ms/step - loss: 0.0010\n",
            "Epoch 9/50\n",
            "26/26 [==============================] - 9s 342ms/step - loss: 0.0012\n",
            "Epoch 10/50\n",
            "26/26 [==============================] - 8s 293ms/step - loss: 0.0011\n",
            "Epoch 11/50\n",
            "26/26 [==============================] - 9s 348ms/step - loss: 0.0010\n",
            "Epoch 12/50\n",
            "26/26 [==============================] - 9s 339ms/step - loss: 9.8849e-04\n",
            "Epoch 13/50\n",
            "26/26 [==============================] - 7s 286ms/step - loss: 9.5735e-04\n",
            "Epoch 14/50\n",
            "26/26 [==============================] - 9s 346ms/step - loss: 0.0010\n",
            "Epoch 15/50\n",
            "26/26 [==============================] - 9s 334ms/step - loss: 8.8791e-04\n",
            "Epoch 16/50\n",
            "26/26 [==============================] - 8s 307ms/step - loss: 0.0010\n",
            "Epoch 17/50\n",
            "26/26 [==============================] - 9s 351ms/step - loss: 0.0011\n",
            "Epoch 18/50\n",
            "26/26 [==============================] - 9s 328ms/step - loss: 9.0584e-04\n",
            "Epoch 19/50\n",
            "26/26 [==============================] - 8s 306ms/step - loss: 9.4635e-04\n",
            "Epoch 20/50\n",
            "26/26 [==============================] - 9s 350ms/step - loss: 9.2992e-04\n",
            "Epoch 21/50\n",
            "26/26 [==============================] - 9s 341ms/step - loss: 9.5112e-04\n",
            "Epoch 22/50\n",
            "26/26 [==============================] - 8s 287ms/step - loss: 9.7862e-04\n",
            "Epoch 23/50\n",
            "26/26 [==============================] - 9s 347ms/step - loss: 0.0010\n",
            "Epoch 24/50\n",
            "26/26 [==============================] - 8s 295ms/step - loss: 0.0010\n",
            "Epoch 25/50\n",
            "26/26 [==============================] - 9s 325ms/step - loss: 9.1272e-04\n",
            "Epoch 26/50\n",
            "26/26 [==============================] - 9s 346ms/step - loss: 9.7531e-04\n",
            "Epoch 27/50\n",
            "26/26 [==============================] - 8s 313ms/step - loss: 9.2911e-04\n",
            "Epoch 28/50\n",
            "26/26 [==============================] - 9s 320ms/step - loss: 8.2373e-04\n",
            "Epoch 29/50\n",
            "26/26 [==============================] - 9s 348ms/step - loss: 9.4672e-04\n",
            "Epoch 30/50\n",
            "26/26 [==============================] - 8s 289ms/step - loss: 8.1796e-04\n",
            "Epoch 31/50\n",
            "26/26 [==============================] - 9s 345ms/step - loss: 8.6634e-04\n",
            "Epoch 32/50\n",
            "26/26 [==============================] - 9s 342ms/step - loss: 7.6415e-04\n",
            "Epoch 33/50\n",
            "26/26 [==============================] - 7s 288ms/step - loss: 8.3043e-04\n",
            "Epoch 34/50\n",
            "26/26 [==============================] - 8s 326ms/step - loss: 8.8792e-04\n",
            "Epoch 35/50\n",
            "26/26 [==============================] - 9s 350ms/step - loss: 8.9854e-04\n",
            "Epoch 36/50\n",
            "26/26 [==============================] - 7s 277ms/step - loss: 9.1650e-04\n",
            "Epoch 37/50\n",
            "26/26 [==============================] - 9s 347ms/step - loss: 8.5154e-04\n",
            "Epoch 38/50\n",
            "26/26 [==============================] - 8s 311ms/step - loss: 8.7723e-04\n",
            "Epoch 39/50\n",
            "26/26 [==============================] - 8s 308ms/step - loss: 8.5232e-04\n",
            "Epoch 40/50\n",
            "26/26 [==============================] - 9s 352ms/step - loss: 8.7616e-04\n",
            "Epoch 41/50\n",
            "26/26 [==============================] - 8s 297ms/step - loss: 9.5088e-04\n",
            "Epoch 42/50\n",
            "26/26 [==============================] - 9s 330ms/step - loss: 8.5185e-04\n",
            "Epoch 43/50\n",
            "26/26 [==============================] - 9s 332ms/step - loss: 8.1478e-04\n",
            "Epoch 44/50\n",
            "26/26 [==============================] - 8s 293ms/step - loss: 7.4835e-04\n",
            "Epoch 45/50\n",
            "26/26 [==============================] - 9s 331ms/step - loss: 9.2092e-04\n",
            "Epoch 46/50\n",
            "26/26 [==============================] - 9s 333ms/step - loss: 9.0275e-04\n",
            "Epoch 47/50\n",
            "26/26 [==============================] - 8s 307ms/step - loss: 8.3882e-04\n",
            "Epoch 48/50\n",
            "26/26 [==============================] - 9s 345ms/step - loss: 9.0527e-04\n",
            "Epoch 49/50\n",
            "26/26 [==============================] - 9s 365ms/step - loss: 8.2803e-04\n",
            "Epoch 50/50\n",
            "26/26 [==============================] - 7s 282ms/step - loss: 7.3908e-04\n"
          ]
        },
        {
          "output_type": "execute_result",
          "data": {
            "text/plain": [
              "<keras.callbacks.History at 0x7d3bbf636590>"
            ]
          },
          "metadata": {},
          "execution_count": 116
        }
      ]
    },
    {
      "cell_type": "code",
      "source": [
        "X_test = []\n",
        "for i in range(60,input_len):\n",
        "    X_test.append(inputs[i-60:i,0])\n",
        "X_test = np.array(X_test)\n",
        "X_test = np.reshape(X_test, (X_test.shape[0],X_test.shape[1],1))\n",
        "GRU_predicted_stock_price = regressorGRU.predict(X_test)\n",
        "GRU_predicted_stock_price = sc.inverse_transform(GRU_predicted_stock_price)"
      ],
      "metadata": {
        "colab": {
          "base_uri": "https://localhost:8080/"
        },
        "id": "Yu865chBHCvZ",
        "outputId": "f51e85aa-72ca-4ccc-d110-95d05876f4e9"
      },
      "execution_count": null,
      "outputs": [
        {
          "output_type": "stream",
          "name": "stdout",
          "text": [
            "19/19 [==============================] - 2s 35ms/step\n"
          ]
        }
      ]
    },
    {
      "cell_type": "code",
      "source": [
        "#GRU results\n",
        "#ploting the graph\n",
        "plt.plot(test_set, color='red',label='Real AAPL Stock Price')\n",
        "plt.plot(GRU_predicted_stock_price, color='blue',label='Predicted AAPL Stock Price')\n",
        "plt.title('AAPL Stock Price Prediction')\n",
        "plt.xlabel('Time')\n",
        "plt.ylabel('Price')\n",
        "plt.legend()\n",
        "plt.show()"
      ],
      "metadata": {
        "colab": {
          "base_uri": "https://localhost:8080/",
          "height": 472
        },
        "id": "Tmv_9TjSLfXP",
        "outputId": "a7f0d7f5-705a-47fc-e9a7-284ba234275a"
      },
      "execution_count": null,
      "outputs": [
        {
          "output_type": "display_data",
          "data": {
            "text/plain": [
              "<Figure size 640x480 with 1 Axes>"
            ],
            "image/png": "[encoded data removed]"
          },
          "metadata": {}
        }
      ]
    },
    {
      "cell_type": "code",
      "source": [
        "#errors calculation\n",
        "#MSE\n",
        "mse = mean_squared_error(test_set, GRU_predicted_stock_price)\n",
        "print(\"The mean squared error is {}.\".format(round(mse, 2)))\n",
        "\n",
        "#RMSE\n",
        "rmse = math.sqrt(mean_squared_error(test_set, GRU_predicted_stock_price))\n",
        "print(\"The root mean squared error is {}.\".format(round(rmse, 2)))\n",
        "\n",
        "#MAE\n",
        "score = mean_absolute_error(test_set, GRU_predicted_stock_price)\n",
        "print(\"The Mean Absolute Error of GRU Model is {}\".format(round(score, 2)))"
      ],
      "metadata": {
        "colab": {
          "base_uri": "https://localhost:8080/"
        },
        "id": "tLb__cyFHCyl",
        "outputId": "da735ef0-8e03-4bbe-deac-83578fddc119"
      },
      "execution_count": null,
      "outputs": [
        {
          "output_type": "stream",
          "name": "stdout",
          "text": [
            "The mean squared error is 49.89.\n",
            "The root mean squared error is 7.06.\n",
            "The Mean Absolute Error of GRU Model is 5.75\n"
          ]
        }
      ]
    },
    {
      "cell_type": "code",
      "source": [
        "#Accuracy using R2 score\n",
        "GRU_score = r2_score(test_set, GRU_predicted_stock_price)\n",
        "print(\"The accuracy of GRU model is {}%\".format(round(GRU_score, 2) *100))"
      ],
      "metadata": {
        "colab": {
          "base_uri": "https://localhost:8080/"
        },
        "id": "jKTTJoZsHC0t",
        "outputId": "088cb3ae-b04a-4b9e-898d-045fec10a496"
      },
      "execution_count": null,
      "outputs": [
        {
          "output_type": "stream",
          "name": "stdout",
          "text": [
            "The accuracy of GRU model is 79.0%\n"
          ]
        }
      ]
    },
    {
      "cell_type": "code",
      "source": [],
      "metadata": {
        "id": "DGPc4zjaLbI8"
      },
      "execution_count": null,
      "outputs": []
    },
    {
      "cell_type": "code",
      "source": [],
      "metadata": {
        "id": "6-1CDuFaLbMf"
      },
      "execution_count": null,
      "outputs": []
    }
  ]
}